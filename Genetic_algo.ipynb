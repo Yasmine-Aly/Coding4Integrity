{
  "nbformat": 4,
  "nbformat_minor": 0,
  "metadata": {
    "colab": {
      "provenance": [],
      "authorship_tag": "ABX9TyPCb+knC2312FlIIHokYot1",
      "include_colab_link": true
    },
    "kernelspec": {
      "name": "python3",
      "display_name": "Python 3"
    },
    "language_info": {
      "name": "python"
    }
  },
  "cells": [
    {
      "cell_type": "markdown",
      "metadata": {
        "id": "view-in-github",
        "colab_type": "text"
      },
      "source": [
        "<a href=\"https://colab.research.google.com/github/lynaBoukari/Coding4Integrity/blob/main/Genetic_algo.ipynb\" target=\"_parent\"><img src=\"https://colab.research.google.com/assets/colab-badge.svg\" alt=\"Open In Colab\"/></a>"
      ]
    },
    {
      "cell_type": "code",
      "execution_count": 1,
      "metadata": {
        "colab": {
          "base_uri": "https://localhost:8080/"
        },
        "id": "dM-V7k8gM32F",
        "outputId": "ab71f15a-954b-4735-a38f-637c09bc2a4f"
      },
      "outputs": [
        {
          "output_type": "stream",
          "name": "stdout",
          "text": [
            "{'id': 1, 'name': 'Exercise 1', 'difficulty': 'Easy', 'points': 10, 'chapter': 'Chapter 3'}\n",
            "{'id': 2, 'name': 'Exercise 2', 'difficulty': 'Easy', 'points': 5, 'chapter': 'Chapter 3'}\n",
            "{'id': 3, 'name': 'Exercise 3', 'difficulty': 'Medium', 'points': 2, 'chapter': 'Chapter 1'}\n",
            "{'id': 4, 'name': 'Exercise 4', 'difficulty': 'Medium', 'points': 12, 'chapter': 'Chapter 1'}\n",
            "{'id': 5, 'name': 'Exercise 5', 'difficulty': 'Medium', 'points': 4, 'chapter': 'Chapter 4'}\n"
          ]
        }
      ],
      "source": [
        "import random\n",
        "\n",
        "# Define possible attributes\n",
        "difficulties = [\"Easy\", \"Medium\", \"Hard\"]\n",
        "chapters = [\"Chapter 1\", \"Chapter 2\", \"Chapter 3\", \"Chapter 4\"]\n",
        "max_points = 20  # Adjust as needed\n",
        "\n",
        "# Generate exercises\n",
        "exercises = []\n",
        "exercise_id = 1\n",
        "\n",
        "for _ in range(1000):\n",
        "    exercise = {\n",
        "        \"id\": exercise_id,\n",
        "        \"name\": f\"Exercise {exercise_id}\",\n",
        "        \"difficulty\": random.choice(difficulties),\n",
        "        \"points\": random.randint(1, max_points),\n",
        "        \"chapter\": random.choice(chapters)\n",
        "    }\n",
        "    exercises.append(exercise)\n",
        "    exercise_id += 1\n",
        "\n",
        "# Print a few exercises for verification\n",
        "for exercise in exercises[:5]:\n",
        "    print(exercise)\n"
      ]
    },
    {
      "cell_type": "code",
      "source": [
        "!pip install pandas\n"
      ],
      "metadata": {
        "colab": {
          "base_uri": "https://localhost:8080/"
        },
        "id": "5ePsQS8dM9Hm",
        "outputId": "d6cfc285-ce46-4f39-debf-fdefffc2d492"
      },
      "execution_count": null,
      "outputs": [
        {
          "output_type": "stream",
          "name": "stdout",
          "text": [
            "Requirement already satisfied: pandas in /usr/local/lib/python3.10/dist-packages (1.5.3)\n",
            "Requirement already satisfied: python-dateutil>=2.8.1 in /usr/local/lib/python3.10/dist-packages (from pandas) (2.8.2)\n",
            "Requirement already satisfied: pytz>=2020.1 in /usr/local/lib/python3.10/dist-packages (from pandas) (2023.3.post1)\n",
            "Requirement already satisfied: numpy>=1.21.0 in /usr/local/lib/python3.10/dist-packages (from pandas) (1.23.5)\n",
            "Requirement already satisfied: six>=1.5 in /usr/local/lib/python3.10/dist-packages (from python-dateutil>=2.8.1->pandas) (1.16.0)\n"
          ]
        }
      ]
    },
    {
      "cell_type": "code",
      "source": [
        "import pandas as pd\n",
        "\n",
        "# Assuming 'exercises' is the list of exercises generated\n",
        "\n",
        "# Create a DataFrame from the list of exercises\n",
        "df = pd.DataFrame(exercises)\n",
        "\n",
        "# Export the DataFrame to an Excel file\n",
        "df.to_excel('exercises_data.xlsx', index=False)\n"
      ],
      "metadata": {
        "id": "L3eEb5K8NBZJ"
      },
      "execution_count": 2,
      "outputs": []
    },
    {
      "cell_type": "code",
      "source": [
        "!pip install genetic\n"
      ],
      "metadata": {
        "colab": {
          "base_uri": "https://localhost:8080/"
        },
        "id": "klkDWwyPOVWk",
        "outputId": "39e07656-c438-4358-99f5-a34a7f396225"
      },
      "execution_count": 14,
      "outputs": [
        {
          "output_type": "stream",
          "name": "stdout",
          "text": [
            "Collecting genetic\n",
            "  Downloading genetic-0.1.dev3.tar.gz (5.5 kB)\n",
            "  Preparing metadata (setup.py) ... \u001b[?25l\u001b[?25hdone\n",
            "Requirement already satisfied: numpy>=1.11.0 in /usr/local/lib/python3.10/dist-packages (from genetic) (1.23.5)\n",
            "Requirement already satisfied: scipy>=0.17.0 in /usr/local/lib/python3.10/dist-packages (from genetic) (1.11.2)\n",
            "Collecting multiprocess>=0.70.4 (from genetic)\n",
            "  Downloading multiprocess-0.70.15-py310-none-any.whl (134 kB)\n",
            "\u001b[2K     \u001b[90m━━━━━━━━━━━━━━━━━━━━━━━━━━━━━━━━━━━━━━━\u001b[0m \u001b[32m134.8/134.8 kB\u001b[0m \u001b[31m3.3 MB/s\u001b[0m eta \u001b[36m0:00:00\u001b[0m\n",
            "\u001b[?25hCollecting dill>=0.3.7 (from multiprocess>=0.70.4->genetic)\n",
            "  Downloading dill-0.3.7-py3-none-any.whl (115 kB)\n",
            "\u001b[2K     \u001b[90m━━━━━━━━━━━━━━━━━━━━━━━━━━━━━━━━━━━━━━━\u001b[0m \u001b[32m115.3/115.3 kB\u001b[0m \u001b[31m8.3 MB/s\u001b[0m eta \u001b[36m0:00:00\u001b[0m\n",
            "\u001b[?25hBuilding wheels for collected packages: genetic\n",
            "  Building wheel for genetic (setup.py) ... \u001b[?25l\u001b[?25hdone\n",
            "  Created wheel for genetic: filename=genetic-0.1.dev3-py3-none-any.whl size=8654 sha256=d6244e08ba3fb854c665c2b78a29e5bd3d7c52f0fee3904c350eb68af007dd13\n",
            "  Stored in directory: /root/.cache/pip/wheels/ce/a8/55/cd6b077d6bb5782dfa1df7bebc1433adff34457ba2f4e1ed5e\n",
            "Successfully built genetic\n",
            "Installing collected packages: dill, multiprocess, genetic\n",
            "Successfully installed dill-0.3.7 genetic-0.1.dev3 multiprocess-0.70.15\n"
          ]
        }
      ]
    },
    {
      "cell_type": "code",
      "source": [
        "import pandas as pd\n",
        "import random\n",
        "\n",
        "# Read exercise data from Excel file\n",
        "df = pd.read_excel('/content/exercises_data.xlsx')  # Replace with your file name and path\n",
        "\n",
        "# Define the target criteria\n",
        "target_points = 20\n",
        "target_exercises = 4\n",
        "\n",
        "# Define GA parameters\n",
        "population_size = 50\n",
        "num_generations = 100\n",
        "mutation_rate = 0.1\n",
        "\n",
        "def fitness(exam_paper):\n",
        "    total_points = sum(exercise[\"points\"] for exercise in exam_paper)\n",
        "    total_chapters = len(set(exercise[\"chapter\"] for exercise in exam_paper))\n",
        "    return abs(total_points - target_points) + (len(exam_paper) - total_chapters)\n",
        "\n",
        "def crossover(parent1, parent2):\n",
        "    crossover_point = random.randint(1, min(len(parent1), len(parent2)) - 1)\n",
        "    child = parent1[:crossover_point] + parent2[crossover_point:]\n",
        "    return child\n",
        "\n",
        "def mutate(exam_paper):\n",
        "    mutated_paper = exam_paper.copy()\n",
        "    index = random.randint(0, len(mutated_paper) - 1)\n",
        "    new_exercise = random.choice([ex for ex in exercises if ex not in mutated_paper])\n",
        "    mutated_paper[index] = new_exercise\n",
        "    return mutated_paper\n",
        "\n",
        "def generate_initial_population():\n",
        "    return [random.sample(exercises, target_exercises) for _ in range(population_size)]\n",
        "\n",
        "def genetic_algorithm():\n",
        "    population = generate_initial_population()\n",
        "\n",
        "    for generation in range(num_generations):\n",
        "        population = sorted(population, key=lambda x: fitness(x))\n",
        "\n",
        "        if fitness(population[0]) == 0:\n",
        "            return population[0]\n",
        "\n",
        "        new_population = []\n",
        "\n",
        "        for _ in range(population_size // 2):\n",
        "            parent1 = random.choice(population[:population_size // 2])\n",
        "            parent2 = random.choice(population[:population_size // 2])\n",
        "            child1 = crossover(parent1, parent2)\n",
        "            child2 = crossover(parent2, parent1)\n",
        "\n",
        "            if random.random() < mutation_rate:\n",
        "                child1 = mutate(child1)\n",
        "\n",
        "            if random.random() < mutation_rate:\n",
        "                child2 = mutate(child2)\n",
        "\n",
        "            new_population.extend([child1, child2])\n",
        "\n",
        "        population = new_population\n",
        "\n",
        "    return population[0]\n",
        "\n",
        "# Use data from the Excel file\n",
        "exercises = df.to_dict('records')\n",
        "\n",
        "# Generate exam paper\n",
        "exam_paper = genetic_algorithm()\n",
        "\n",
        "# Print the selected exercises\n",
        "for exercise in exam_paper:\n",
        "    print(f\"Exercise: {exercise['name']}, Difficulty: {exercise['difficulty']}, Points: {exercise['points']}, Chapter: {exercise['chapter']}\")\n",
        "\n",
        "print(f\"Total Points: {sum(exercise['points'] for exercise in exam_paper)}\")\n"
      ],
      "metadata": {
        "colab": {
          "base_uri": "https://localhost:8080/"
        },
        "id": "Y2ycb9KsKO5G",
        "outputId": "2f981f4b-b1fa-4f8f-81fb-2afaf8ec519a"
      },
      "execution_count": 19,
      "outputs": [
        {
          "output_type": "stream",
          "name": "stdout",
          "text": [
            "Exercise: Exercise 608, Difficulty: Medium, Points: 8, Chapter: Chapter 1\n",
            "Exercise: Exercise 179, Difficulty: Hard, Points: 2, Chapter: Chapter 3\n",
            "Exercise: Exercise 620, Difficulty: Medium, Points: 8, Chapter: Chapter 4\n",
            "Exercise: Exercise 625, Difficulty: Medium, Points: 2, Chapter: Chapter 2\n",
            "Total Points: 20\n"
          ]
        }
      ]
    }
  ]
}