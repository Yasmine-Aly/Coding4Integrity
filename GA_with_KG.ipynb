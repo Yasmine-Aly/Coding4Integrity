{
  "nbformat": 4,
  "nbformat_minor": 0,
  "metadata": {
    "colab": {
      "provenance": [],
      "authorship_tag": "ABX9TyMGmk3hjFUFaunyn2LGVqSS",
      "include_colab_link": true
    },
    "kernelspec": {
      "name": "python3",
      "display_name": "Python 3"
    },
    "language_info": {
      "name": "python"
    }
  },
  "cells": [
    {
      "cell_type": "markdown",
      "metadata": {
        "id": "view-in-github",
        "colab_type": "text"
      },
      "source": [
        "<a href=\"https://colab.research.google.com/github/lynaBoukari/Coding4Integrity/blob/main/GA_with_KG.ipynb\" target=\"_parent\"><img src=\"https://colab.research.google.com/assets/colab-badge.svg\" alt=\"Open In Colab\"/></a>"
      ]
    },
    {
      "cell_type": "code",
      "source": [
        "import random\n",
        "\n",
        "# Define possible attributes\n",
        "difficulties = [\"Easy\", \"Medium\", \"Hard\"]\n",
        "chapters = [\"Chapter 1\", \"Chapter 2\", \"Chapter 3\", \"Chapter 4\"]\n",
        "max_points = 20  # Adjust as needed\n",
        "\n",
        "# Generate exercises\n",
        "exercises = []\n",
        "exercise_id = 1\n",
        "\n",
        "for _ in range(1000):\n",
        "    exercise = {\n",
        "        \"id\": exercise_id,\n",
        "        \"name\": f\"Exercise {exercise_id}\",\n",
        "        \"difficulty\": random.choice(difficulties),\n",
        "        \"points\": random.randint(1, max_points),\n",
        "        \"chapter\": random.choice(chapters)\n",
        "    }\n",
        "    exercises.append(exercise)\n",
        "    exercise_id += 1\n",
        "\n",
        "# Print a few exercises for verification\n",
        "for exercise in exercises[:5]:\n",
        "    print(exercise)\n"
      ],
      "metadata": {
        "colab": {
          "base_uri": "https://localhost:8080/"
        },
        "id": "SV8MD31Mnt7r",
        "outputId": "848172ca-fd05-423e-b6de-dd42a0981743"
      },
      "execution_count": 1,
      "outputs": [
        {
          "output_type": "stream",
          "name": "stdout",
          "text": [
            "{'id': 1, 'name': 'Exercise 1', 'difficulty': 'Easy', 'points': 8, 'chapter': 'Chapter 2'}\n",
            "{'id': 2, 'name': 'Exercise 2', 'difficulty': 'Medium', 'points': 10, 'chapter': 'Chapter 4'}\n",
            "{'id': 3, 'name': 'Exercise 3', 'difficulty': 'Medium', 'points': 9, 'chapter': 'Chapter 1'}\n",
            "{'id': 4, 'name': 'Exercise 4', 'difficulty': 'Easy', 'points': 7, 'chapter': 'Chapter 4'}\n",
            "{'id': 5, 'name': 'Exercise 5', 'difficulty': 'Medium', 'points': 2, 'chapter': 'Chapter 2'}\n"
          ]
        }
      ]
    },
    {
      "cell_type": "code",
      "source": [
        "import pandas as pd\n",
        "\n",
        "# Assuming 'exercises' is the list of exercises generated\n",
        "\n",
        "# Create a DataFrame from the list of exercises\n",
        "df = pd.DataFrame(exercises)\n",
        "\n",
        "# Export the DataFrame to an Excel file\n",
        "df.to_excel('exercises_data.xlsx', index=False)\n"
      ],
      "metadata": {
        "id": "nimzQRH6nxmx"
      },
      "execution_count": 2,
      "outputs": []
    },
    {
      "cell_type": "code",
      "execution_count": 5,
      "metadata": {
        "colab": {
          "base_uri": "https://localhost:8080/"
        },
        "id": "9fSwChk-nnrH",
        "outputId": "c0b12c97-f445-43ff-d753-143615d919f6"
      },
      "outputs": [
        {
          "output_type": "stream",
          "name": "stdout",
          "text": [
            "Exercise: Exercise 243, Chapter: Chapter 2, Points: 5, Difficulty: Easy\n",
            "Exercise: Exercise 14, Chapter: Chapter 3, Points: 9, Difficulty: Medium\n",
            "Exercise: Exercise 468, Chapter: Chapter 1, Points: 1, Difficulty: Easy\n",
            "Exercise: Exercise 269, Chapter: Chapter 4, Points: 5, Difficulty: Medium\n",
            "Total Points: 20\n"
          ]
        }
      ],
      "source": [
        "import pandas as pd\n",
        "import random\n",
        "\n",
        "# Read exercise data from Excel file\n",
        "df = pd.read_excel('/content/exercises_data.xlsx')\n",
        "\n",
        "# Define the target criteria\n",
        "target_points = 20\n",
        "target_exercises = 4\n",
        "target_chapters = 4\n",
        "\n",
        "# Convert DataFrame to a dictionary for easier manipulation\n",
        "exercise_data = df.to_dict(orient='records')\n",
        "\n",
        "def fitness(exam_paper):\n",
        "    total_points = sum(exercise['points'] for exercise in exam_paper)\n",
        "    total_chapters = len(set(exercise['chapter'] for exercise in exam_paper))\n",
        "    return abs(total_points - target_points) + abs(total_chapters - target_chapters)\n",
        "\n",
        "def crossover(parent1, parent2):\n",
        "    # Single-point crossover\n",
        "    crossover_point = random.randint(1, min(len(parent1), len(parent2)) - 1)\n",
        "    child = parent1[:crossover_point] + parent2[crossover_point:]\n",
        "    return child\n",
        "\n",
        "def mutate(exam_paper):\n",
        "    # Swap two random exercises\n",
        "    mutated_paper = exam_paper.copy()\n",
        "    position1, position2 = random.sample(range(len(mutated_paper)), 2)\n",
        "    mutated_paper[position1], mutated_paper[position2] = mutated_paper[position2], mutated_paper[position1]\n",
        "    return mutated_paper\n",
        "\n",
        "def generate_initial_population():\n",
        "    return [random.sample(exercise_data, target_exercises) for _ in range(population_size)]\n",
        "\n",
        "def genetic_algorithm():\n",
        "    population = generate_initial_population()\n",
        "\n",
        "    for generation in range(num_generations):\n",
        "        population = sorted(population, key=lambda x: fitness(x))\n",
        "\n",
        "        if fitness(population[0]) == 0:\n",
        "            return population[0]\n",
        "\n",
        "        new_population = []\n",
        "\n",
        "        for _ in range(population_size // 2):\n",
        "            parent1 = random.choice(population[:population_size // 2])\n",
        "            parent2 = random.choice(population[:population_size // 2])\n",
        "            child1 = crossover(parent1, parent2)\n",
        "            child2 = crossover(parent2, parent1)\n",
        "\n",
        "            if random.random() < mutation_rate:\n",
        "                child1 = mutate(child1)\n",
        "\n",
        "            if random.random() < mutation_rate:\n",
        "                child2 = mutate(child2)\n",
        "\n",
        "            new_population.extend([child1, child2])\n",
        "\n",
        "        population = new_population\n",
        "\n",
        "    return population[0]\n",
        "\n",
        "# Genetic Algorithm Parameters\n",
        "population_size = 50\n",
        "num_generations = 100\n",
        "mutation_rate = 0.1\n",
        "\n",
        "# Generate exam paper\n",
        "exam_paper = genetic_algorithm()\n",
        "\n",
        "# Print the selected exercises\n",
        "for exercise in exam_paper:\n",
        "    print(f\"Exercise: {exercise['name']}, Chapter: {exercise['chapter']}, Points: {exercise['points']}, Difficulty: {exercise['difficulty']}\")\n",
        "\n",
        "print(f\"Total Points: {sum(exercise['points'] for exercise in exam_paper)}\")\n"
      ]
    }
  ]
}