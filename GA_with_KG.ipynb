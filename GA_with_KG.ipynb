{
  "nbformat": 4,
  "nbformat_minor": 0,
  "metadata": {
    "colab": {
      "provenance": [],
      "authorship_tag": "ABX9TyNdCktJeZ1xDo70jLWj3wBK",
      "include_colab_link": true
    },
    "kernelspec": {
      "name": "python3",
      "display_name": "Python 3"
    },
    "language_info": {
      "name": "python"
    }
  },
  "cells": [
    {
      "cell_type": "markdown",
      "metadata": {
        "id": "view-in-github",
        "colab_type": "text"
      },
      "source": [
        "<a href=\"https://colab.research.google.com/github/lynaBoukari/Coding4Integrity/blob/main/GA_with_KG.ipynb\" target=\"_parent\"><img src=\"https://colab.research.google.com/assets/colab-badge.svg\" alt=\"Open In Colab\"/></a>"
      ]
    },
    {
      "cell_type": "markdown",
      "source": [
        "GA KG"
      ],
      "metadata": {
        "id": "4PoU6519cipF"
      }
    },
    {
      "cell_type": "code",
      "execution_count": 1,
      "metadata": {
        "colab": {
          "base_uri": "https://localhost:8080/"
        },
        "id": "9fSwChk-nnrH",
        "outputId": "c7cc19e2-31ef-4eff-a323-814f1e96ee86"
      },
      "outputs": [
        {
          "output_type": "stream",
          "name": "stdout",
          "text": [
            "Exercise: Exercise 673, Chapter: Chapter 1, Points: 3, Difficulty: Medium, Link: https://drive.google.com/file/d/1pkFaRYgnQZ-C9ourjnv6T5fk4zTuR_78/view?usp=drive_link\n",
            "Exercise: Exercise 805, Chapter: Chapter 2, Points: 8, Difficulty: Medium, Link: https://drive.google.com/file/d/1pVH3SIk0uMxwXtVCiNFt0QXCX8Th4YJN/view?usp=drive_link\n",
            "Exercise: Exercise 260, Chapter: Chapter 3, Points: 8, Difficulty: Easy, Link: https://drive.google.com/file/d/1d9cJLyNbFvJF1w6_wwHB_Mu1cwuG0x87/view?usp=drive_link\n",
            "Exercise: Exercise 473, Chapter: Chapter 4, Points: 1, Difficulty: Medium, Link: https://drive.google.com/file/d/1QeSeULruQJu48H4kSZWi5-v0j2BpAq2Z/view?usp=drive_link\n",
            "Total Points: 20\n"
          ]
        }
      ],
      "source": [
        "import pandas as pd\n",
        "import random\n",
        "\n",
        "# Read exercise data from Excel file\n",
        "df = pd.read_excel('/content/exercise_data.xlsx')\n",
        "\n",
        "# Define the target criteria\n",
        "target_points = 20\n",
        "target_exercises = 4\n",
        "target_chapters = 4\n",
        "\n",
        "# Convert DataFrame to a dictionary for easier manipulation\n",
        "exercise_data = df.to_dict(orient='records')\n",
        "\n",
        "def fitness(exam_paper):\n",
        "    total_points = sum(exercise['points'] for exercise in exam_paper)\n",
        "    total_chapters = len(set(exercise['chapter'] for exercise in exam_paper))\n",
        "    return abs(total_points - target_points) + abs(total_chapters - target_chapters)\n",
        "\n",
        "def crossover(parent1, parent2):\n",
        "    # Single-point crossover\n",
        "    crossover_point = random.randint(1, min(len(parent1), len(parent2)) - 1)\n",
        "    child = parent1[:crossover_point] + parent2[crossover_point:]\n",
        "    return child\n",
        "\n",
        "def mutate(exam_paper):\n",
        "    # Swap two random exercises\n",
        "    mutated_paper = exam_paper.copy()\n",
        "    position1, position2 = random.sample(range(len(mutated_paper)), 2)\n",
        "    mutated_paper[position1], mutated_paper[position2] = mutated_paper[position2], mutated_paper[position1]\n",
        "    return mutated_paper\n",
        "\n",
        "def generate_initial_population():\n",
        "    return [random.sample(exercise_data, target_exercises) for _ in range(population_size)]\n",
        "\n",
        "def genetic_algorithm():\n",
        "    population = generate_initial_population()\n",
        "\n",
        "    for generation in range(num_generations):\n",
        "        population = sorted(population, key=lambda x: fitness(x))\n",
        "\n",
        "        if fitness(population[0]) == 0:\n",
        "            return population[0]\n",
        "\n",
        "        new_population = []\n",
        "\n",
        "        for _ in range(population_size // 2):\n",
        "            parent1 = random.choice(population[:population_size // 2])\n",
        "            parent2 = random.choice(population[:population_size // 2])\n",
        "            child1 = crossover(parent1, parent2)\n",
        "            child2 = crossover(parent2, parent1)\n",
        "\n",
        "            if random.random() < mutation_rate:\n",
        "                child1 = mutate(child1)\n",
        "\n",
        "            if random.random() < mutation_rate:\n",
        "                child2 = mutate(child2)\n",
        "\n",
        "            new_population.extend([child1, child2])\n",
        "\n",
        "        population = new_population\n",
        "\n",
        "    return population[0]\n",
        "\n",
        "# Genetic Algorithm Parameters\n",
        "population_size = 50\n",
        "num_generations = 100\n",
        "mutation_rate = 0.1\n",
        "\n",
        "# Generate exam paper\n",
        "exam_paper = genetic_algorithm()\n",
        "\n",
        "# Print the selected exercises\n",
        "for exercise in exam_paper:\n",
        "    print(f\"Exercise: {exercise['name']}, Chapter: {exercise['chapter']}, Points: {exercise['points']}, Difficulty: {exercise['difficulty']}, Link: {exercise['link']}\")\n",
        "\n",
        "print(f\"Total Points: {sum(exercise['points'] for exercise in exam_paper)}\")\n"
      ]
    }
  ]
}